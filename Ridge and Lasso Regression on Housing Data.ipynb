{
 "cells": [
  {
   "cell_type": "code",
   "execution_count": 1,
   "metadata": {},
   "outputs": [],
   "source": [
    "import pandas as pd\n",
    "import numpy as np\n",
    "import matplotlib.pyplot as plt\n",
    "import seaborn as sns"
   ]
  },
  {
   "cell_type": "code",
   "execution_count": 2,
   "metadata": {},
   "outputs": [],
   "source": [
    "df=pd.read_csv(\"C:/Users/Administrator/Downloads/housing.csv\")"
   ]
  },
  {
   "cell_type": "code",
   "execution_count": 3,
   "metadata": {},
   "outputs": [
    {
     "data": {
      "text/html": [
       "<div>\n",
       "<style scoped>\n",
       "    .dataframe tbody tr th:only-of-type {\n",
       "        vertical-align: middle;\n",
       "    }\n",
       "\n",
       "    .dataframe tbody tr th {\n",
       "        vertical-align: top;\n",
       "    }\n",
       "\n",
       "    .dataframe thead th {\n",
       "        text-align: right;\n",
       "    }\n",
       "</style>\n",
       "<table border=\"1\" class=\"dataframe\">\n",
       "  <thead>\n",
       "    <tr style=\"text-align: right;\">\n",
       "      <th></th>\n",
       "      <th>RM</th>\n",
       "      <th>LSTAT</th>\n",
       "      <th>PTRATIO</th>\n",
       "      <th>MEDV</th>\n",
       "    </tr>\n",
       "  </thead>\n",
       "  <tbody>\n",
       "    <tr>\n",
       "      <th>0</th>\n",
       "      <td>6.575</td>\n",
       "      <td>4.98</td>\n",
       "      <td>15.3</td>\n",
       "      <td>504000</td>\n",
       "    </tr>\n",
       "    <tr>\n",
       "      <th>1</th>\n",
       "      <td>6.421</td>\n",
       "      <td>9.14</td>\n",
       "      <td>17.8</td>\n",
       "      <td>453600</td>\n",
       "    </tr>\n",
       "    <tr>\n",
       "      <th>2</th>\n",
       "      <td>7.185</td>\n",
       "      <td>4.03</td>\n",
       "      <td>17.8</td>\n",
       "      <td>728700</td>\n",
       "    </tr>\n",
       "    <tr>\n",
       "      <th>3</th>\n",
       "      <td>6.998</td>\n",
       "      <td>2.94</td>\n",
       "      <td>18.7</td>\n",
       "      <td>701400</td>\n",
       "    </tr>\n",
       "    <tr>\n",
       "      <th>4</th>\n",
       "      <td>7.147</td>\n",
       "      <td>5.33</td>\n",
       "      <td>18.7</td>\n",
       "      <td>760200</td>\n",
       "    </tr>\n",
       "  </tbody>\n",
       "</table>\n",
       "</div>"
      ],
      "text/plain": [
       "      RM  LSTAT  PTRATIO    MEDV\n",
       "0  6.575   4.98     15.3  504000\n",
       "1  6.421   9.14     17.8  453600\n",
       "2  7.185   4.03     17.8  728700\n",
       "3  6.998   2.94     18.7  701400\n",
       "4  7.147   5.33     18.7  760200"
      ]
     },
     "execution_count": 3,
     "metadata": {},
     "output_type": "execute_result"
    }
   ],
   "source": [
    "df.head()"
   ]
  },
  {
   "cell_type": "code",
   "execution_count": 4,
   "metadata": {},
   "outputs": [],
   "source": [
    "x=df.drop(columns=\"MEDV\")\n",
    "y=df[\"MEDV\"]"
   ]
  },
  {
   "cell_type": "code",
   "execution_count": 5,
   "metadata": {},
   "outputs": [],
   "source": [
    "from sklearn.model_selection import train_test_split\n",
    "xtrain,xtest,ytrain,ytest=train_test_split(x,y,test_size=0.2,random_state=0)"
   ]
  },
  {
   "cell_type": "code",
   "execution_count": 6,
   "metadata": {},
   "outputs": [
    {
     "name": "stdout",
     "output_type": "stream",
     "text": [
      "(391, 3)\n",
      "(98, 3)\n",
      "(391,)\n",
      "(98,)\n"
     ]
    }
   ],
   "source": [
    "print(xtrain.shape)\n",
    "print(xtest.shape)\n",
    "print(ytrain.shape)\n",
    "print(ytest.shape)"
   ]
  },
  {
   "cell_type": "code",
   "execution_count": 16,
   "metadata": {},
   "outputs": [
    {
     "name": "stdout",
     "output_type": "stream",
     "text": [
      "LR Coefficients: [ 82131.07271594 -11531.40087939 -19425.18723615]\n"
     ]
    }
   ],
   "source": [
    "from sklearn.linear_model  import LinearRegression\n",
    "from sklearn.linear_model  import Ridge\n",
    "from sklearn.linear_model  import Lasso\n",
    "from sklearn.metrics import mean_squared_error,mean_absolute_error,r2_score\n",
    "#Linear Model\n",
    "lr=LinearRegression()\n",
    "lr.fit(xtrain,ytrain)\n",
    "print(\"LR Coefficients:\",lr.coef_)"
   ]
  },
  {
   "cell_type": "code",
   "execution_count": 18,
   "metadata": {},
   "outputs": [
    {
     "name": "stdout",
     "output_type": "stream",
     "text": [
      "Ridge Coefficients: [ 82052.7056329  -11535.52526012 -19426.02193535]\n",
      "0.6574315578258967\n"
     ]
    }
   ],
   "source": [
    "#Ridge Model \n",
    "ridge=Ridge(alpha=0.1)\n",
    "ridge.fit(xtrain,ytrain)\n",
    "print(\"Ridge Coefficients:\",ridge.coef_)\n",
    "r_ypred=ridge.predict(xtest)\n",
    "rr2_square=r2_score(ytest,r_ypred)\n",
    "print(rr2_square)"
   ]
  },
  {
   "cell_type": "code",
   "execution_count": 9,
   "metadata": {},
   "outputs": [
    {
     "name": "stdout",
     "output_type": "stream",
     "text": [
      "Lasso Coefficients: [ 82130.851335   -11531.41526053 -19425.16627829]\n"
     ]
    }
   ],
   "source": [
    "#Lasso Model\n",
    "lasso=Lasso(alpha=0.1)\n",
    "lasso.fit(xtrain,ytrain)\n",
    "print(\"Lasso Coefficients:\",lasso.coef_)"
   ]
  },
  {
   "cell_type": "markdown",
   "metadata": {},
   "source": [
    "### Result on Training and Testing Dataset"
   ]
  },
  {
   "cell_type": "code",
   "execution_count": 10,
   "metadata": {},
   "outputs": [
    {
     "name": "stdout",
     "output_type": "stream",
     "text": [
      "Linear Regression on training data 0.7326740414596575\n",
      "Linear Regression on testing data 0.6574622113312862\n",
      "Ridge Regression on training data 0.7326739811258268\n",
      "Rigde Regression on testing data 0.6574315578258967\n",
      "Lasso Regression on training data 0.7326740414590787\n",
      "Lasso Regression on testing data 0.6574621167499852\n"
     ]
    }
   ],
   "source": [
    "print('Linear Regression on training data',lr.score(xtrain,ytrain))\n",
    "print('Linear Regression on testing data',lr.score(xtest,ytest))\n",
    "print('Ridge Regression on training data',ridge.score(xtrain,ytrain))\n",
    "print('Rigde Regression on testing data',ridge.score(xtest,ytest))\n",
    "print('Lasso Regression on training data',lasso.score(xtrain,ytrain))\n",
    "print('Lasso Regression on testing data',lasso.score(xtest,ytest))"
   ]
  },
  {
   "cell_type": "markdown",
   "metadata": {},
   "source": [
    "### Polynomial Regression"
   ]
  },
  {
   "cell_type": "code",
   "execution_count": 11,
   "metadata": {},
   "outputs": [],
   "source": [
    "from sklearn.preprocessing import PolynomialFeatures\n",
    "pf=PolynomialFeatures(degree=4)\n",
    "poly_xtrain=pf.fit_transform(xtrain)\n",
    "poly_xtest=pf.fit_transform(xtest)"
   ]
  },
  {
   "cell_type": "code",
   "execution_count": 12,
   "metadata": {},
   "outputs": [
    {
     "name": "stdout",
     "output_type": "stream",
     "text": [
      "LR Coefficients: [-5.54750922e-02 -1.05142932e+07 -6.68710786e+06 -2.48484127e+07\n",
      " -2.61248153e+06  6.14259557e+05  3.07080564e+06  4.36684292e+04\n",
      "  8.53249340e+05  1.31779576e+06  3.17964658e+05  1.86716365e+03\n",
      " -1.55887789e+04 -3.03519231e+03 -6.58273678e+04 -1.45462312e+05\n",
      " -1.70710772e+02 -3.32912825e+03 -3.38339170e+04 -2.61727159e+04\n",
      " -9.69598381e+03  4.31667368e+02 -5.18521346e+03  5.01768108e+01\n",
      " -7.13700537e+02  3.13181029e+03 -1.88129099e+01  1.77130330e+02\n",
      "  1.94722310e+03  1.59722979e+03 -3.12691542e-01  1.66936728e+01\n",
      "  3.96746872e+01  3.83831730e+02  1.77120209e+02]\n"
     ]
    }
   ],
   "source": [
    "#Linear Model\n",
    "lr=LinearRegression()\n",
    "lr.fit(poly_xtrain,ytrain)\n",
    "print(\"LR Coefficients:\",lr.coef_)"
   ]
  },
  {
   "cell_type": "code",
   "execution_count": 13,
   "metadata": {},
   "outputs": [
    {
     "name": "stdout",
     "output_type": "stream",
     "text": [
      "Ridge Coefficients: [ 0.00000000e+00  6.61203923e+03 -7.24354748e+04 -2.56156118e+04\n",
      "  1.45603017e+04 -1.39901815e+05 -4.14272438e+04 -2.52939514e+04\n",
      "  1.13420500e+05 -1.71613926e+04  3.97192675e+03  1.10106922e+04\n",
      "  7.35694566e+03  2.61337972e+03  9.41425382e+02  1.67895392e+03\n",
      "  1.86350502e+02  1.25113728e+03 -7.31360035e+03  1.54044351e+03\n",
      " -2.51210693e+02  8.83591091e+02 -9.63219491e+02  9.64563760e+00\n",
      " -1.47144536e+03  5.26847675e+02 -2.82488428e+01 -4.96859440e+01\n",
      "  5.19495763e+02 -2.68743597e+02 -8.20660831e-01  3.69454485e+00\n",
      " -3.27554707e+01  8.95523090e+01 -6.39696723e+00]\n"
     ]
    }
   ],
   "source": [
    "#Ridge Model \n",
    "ridge=Ridge(alpha=0.1)\n",
    "ridge.fit(poly_xtrain,ytrain)\n",
    "print(\"Ridge Coefficients:\",ridge.coef_)"
   ]
  },
  {
   "cell_type": "code",
   "execution_count": 14,
   "metadata": {},
   "outputs": [
    {
     "name": "stdout",
     "output_type": "stream",
     "text": [
      "Lasso Coefficients: [ 0.00000000e+00  1.13701710e+04  1.21849985e+04  9.85996830e+04\n",
      "  2.56537571e+04  6.84852300e+02 -5.88599927e+03 -3.59490251e+02\n",
      "  2.48698575e+02  1.23697463e+02  7.37165256e+02 -1.46135292e+02\n",
      " -1.97735691e+02  9.40896121e+00  2.96396711e+01 -2.03381748e+02\n",
      " -3.75217923e+00 -5.58097168e+00 -2.61661037e+00  6.70209028e+00\n",
      " -3.56451812e+01 -1.04760176e+02  4.71165074e+01  1.32539911e+01\n",
      "  7.38657352e+00 -8.48848103e+00 -1.26546091e-01  8.51276360e-01\n",
      " -1.20871947e+00 -7.10703144e+00  6.50202744e-01 -9.29922058e-01\n",
      " -7.61072068e-01 -1.22283848e-01  6.02619157e-01]\n"
     ]
    },
    {
     "name": "stderr",
     "output_type": "stream",
     "text": [
      "C:\\Users\\Administrator\\download\\anaconda3\\lib\\site-packages\\sklearn\\linear_model\\_coordinate_descent.py:529: ConvergenceWarning: Objective did not converge. You might want to increase the number of iterations. Duality gap: 747084281695.2075, tolerance: 1055202253.7340155\n",
      "  model = cd_fast.enet_coordinate_descent(\n"
     ]
    }
   ],
   "source": [
    "#Lasso Model\n",
    "lasso=Lasso(alpha=0.1)\n",
    "lasso.fit(poly_xtrain,ytrain)\n",
    "print(\"Lasso Coefficients:\",lasso.coef_)"
   ]
  },
  {
   "cell_type": "markdown",
   "metadata": {},
   "source": [
    "### Result on Training and Testing Dataset"
   ]
  },
  {
   "cell_type": "code",
   "execution_count": 15,
   "metadata": {},
   "outputs": [
    {
     "name": "stdout",
     "output_type": "stream",
     "text": [
      "Linear Regression on training data 0.878259730046459\n",
      "Linear Regression on testing data 0.7752997043391233\n",
      "Ridge Regression on training data 0.8703674435743078\n",
      "Rigde Regression on testing data 0.7683747394506657\n",
      "Lasso Regression on training data 0.8584009532038035\n",
      "Lasso Regression on testing data 0.7753414036953717\n"
     ]
    }
   ],
   "source": [
    "print('Linear Regression on training data',lr.score(poly_xtrain,ytrain))\n",
    "print('Linear Regression on testing data',lr.score(poly_xtest,ytest))\n",
    "print('Ridge Regression on training data',ridge.score(poly_xtrain,ytrain))\n",
    "print('Rigde Regression on testing data',ridge.score(poly_xtest,ytest))\n",
    "print('Lasso Regression on training data',lasso.score(poly_xtrain,ytrain))\n",
    "print('Lasso Regression on testing data',lasso.score(poly_xtest,ytest))"
   ]
  }
 ],
 "metadata": {
  "kernelspec": {
   "display_name": "Python 3",
   "language": "python",
   "name": "python3"
  },
  "language_info": {
   "codemirror_mode": {
    "name": "ipython",
    "version": 3
   },
   "file_extension": ".py",
   "mimetype": "text/x-python",
   "name": "python",
   "nbconvert_exporter": "python",
   "pygments_lexer": "ipython3",
   "version": "3.8.3"
  }
 },
 "nbformat": 4,
 "nbformat_minor": 4
}
